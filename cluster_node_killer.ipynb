{
 "cells": [
  {
   "cell_type": "code",
   "execution_count": 97,
   "metadata": {},
   "outputs": [
    {
     "name": "stdout",
     "output_type": "stream",
     "text": [
      "Current count of task nodes: 20\n",
      "Number of task nodes to be killed: 5\n"
     ]
    }
   ],
   "source": [
    "import boto3\n",
    "import pandas as pd\n",
    "import numpy as np\n",
    "from IPython.display import display\n",
    "import json\n",
    "\n",
    "cluster_name=\"wahi_presto\"\n",
    "presto_min_cnt=15\n",
    "\n",
    "emr = boto3.client('emr' , region_name='us-west-2')\n",
    "clusters = emr.list_clusters()\n",
    "presto_cluster = [i for i in clusters['Clusters'] if i['Name'] == cluster_name][0]\n",
    "\n",
    "\n",
    "#emr_df = pd.DataFrame()\n",
    "running_tasks_instances=emr.list_instances(ClusterId=presto_cluster['Id'],InstanceGroupTypes=['TASK'],InstanceStates=['RUNNING'])['Instances']\n",
    "running_tasks_instances_df=pd.DataFrame(running_tasks_instances)\n",
    "task_cnt=len(running_tasks_instances_df)\n",
    "\n",
    "instance_groups=emr.list_instance_groups(ClusterId=presto_cluster['Id'])\n",
    "instance_grp_id=[i['Id'] for i in instance_groups['InstanceGroups'] if i['InstanceGroupType'] =='TASK']\n",
    "grp_id=' '.join(map(str, instance_grp_id))\n",
    "\n",
    "print(\"Current count of task nodes:\",task_cnt)\n",
    "\n",
    "if task_cnt>presto_min_cnt:\n",
    "    kill_cnt=task_cnt-presto_min_cnt\n",
    "    print(\"Number of task nodes to be killed:\",kill_cnt)\n",
    "    kill_id=running_tasks_instances_df['Ec2InstanceId'].head(kill_cnt)\n",
    "    \n",
    "    emr.modify_instance_groups(ClusterId=presto_cluster['Id'],InstanceGroups=[{'InstanceGroupId':' '.join(map(str, instance_grp_id)),'EC2InstanceIdsToTerminate':kill_id.values.tolist() }])\n",
    "\n"
   ]
  },
  {
   "cell_type": "code",
   "execution_count": null,
   "metadata": {},
   "outputs": [],
   "source": []
  }
 ],
 "metadata": {
  "kernelspec": {
   "display_name": "Python 3",
   "language": "python",
   "name": "python3"
  },
  "language_info": {
   "codemirror_mode": {
    "name": "ipython",
    "version": 3
   },
   "file_extension": ".py",
   "mimetype": "text/x-python",
   "name": "python",
   "nbconvert_exporter": "python",
   "pygments_lexer": "ipython3",
   "version": "3.5.2"
  }
 },
 "nbformat": 4,
 "nbformat_minor": 2
}
