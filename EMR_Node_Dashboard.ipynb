{
 "cells": [
  {
   "cell_type": "code",
   "execution_count": null,
   "metadata": {
    "scrolled": true
   },
   "outputs": [],
   "source": [
    "%%HTML\n",
    "<style type=\"text/css\">\n",
    "table.dataframe td, table.dataframe th {\n",
    "    border: 1px  black solid !important;\n",
    "  color: black !important;\n",
    "}\n",
    "</style>"
   ]
  },
  {
   "cell_type": "code",
   "execution_count": null,
   "metadata": {},
   "outputs": [],
   "source": [
    "import boto3\n",
    "import pandas as pd\n",
    "import numpy as np\n",
    "from IPython.display import display\n",
    "\n",
    "\"\"\"\n",
    "ec2 = boto3.client('ec2', region_name='us-west-2')\n",
    "response = ec2.describe_instances()\n",
    "print(response)oro\n",
    "\"\"\"\n",
    "\n",
    "def highlight_reserved(df_row):\n",
    "    if df_row.name[0] in ['r4.8xlarge','m5.12xlarge']:\n",
    "        return ['background-color: yellow; border: 1px  black solid !important; color: black !important']*2\n",
    "    else:\n",
    "        return ['border: 1px  black solid !important; color: black !important']*2\n",
    "    \n",
    "emr = boto3.client('emr' , region_name='us-west-2')\n",
    "\n",
    "page_iterator = emr.get_paginator('list_clusters').paginate(\n",
    "    ClusterStates=['RUNNING','WAITING']\n",
    ")\n",
    "\n",
    "clusters_active = []\n",
    "for page in page_iterator:\n",
    "    clusters_active.extend(page['Clusters'])\n",
    "\n",
    "print(\"Total Active Clusters:\", len(clusters_active))\n",
    "\n",
    "emr_df = pd.DataFrame()\n",
    "for cluster in clusters_active:\n",
    "    cluster_id = cluster['Id']\n",
    "    instance_groups = emr.list_instance_groups(ClusterId=cluster_id)['InstanceGroups']\n",
    "    instance_groups_df = pd.DataFrame(instance_groups)\n",
    "    instance_groups_df['Cluster_Name'] = cluster['Name']\n",
    "    instance_groups_df['Cluster_Id'] = cluster['Id']\n",
    "    emr_df = emr_df.append(instance_groups_df[['Cluster_Name','Cluster_Id','InstanceType', 'InstanceGroupType', 'Market', 'RunningInstanceCount' ]], ignore_index=True)\n",
    "\n",
    "instance_total = emr_df['RunningInstanceCount'].sum()\n",
    "print('Total Running instances count within EMR: {}'.format(instance_total))\n",
    "#instance_type_cnt = instance_type_grp['RunningInstanceCount'].agg({'Count': np.sum})\n",
    "#instance_type_cnt = instance_type_grp.agg({'RunningInstanceCount' : 'sum', 'Cluster_Instance' : lambda x: ', '.join(x)})\n",
    "instance_grp = emr_df.groupby(['InstanceType','Market'])\n",
    "#instance_grp_cnt = instance_grp.agg({'RunningInstanceCount' : 'sum'})\n",
    "instance_grp_cnt = instance_grp.agg({'RunningInstanceCount' : 'sum', 'Cluster_Name' : lambda x: ', '.join(x)}).reindex(['RunningInstanceCount','Cluster_Name'], axis=1)\n",
    "instance_grp_cnt = instance_grp_cnt[instance_grp_cnt['RunningInstanceCount'] != 0]\n",
    "print(\"Count of InstanceType accross EMR\")\n",
    "#instance_grp_cnt = instance_grp_cnt.style.apply(highlight_reserved, axis=1)\n",
    "display(instance_grp_cnt)\n",
    "\n",
    "instance_emr_cnt = emr_df.groupby(['InstanceType','Cluster_Name','Market']).agg({'RunningInstanceCount' : 'sum'})\n",
    "instance_emr_cnt = instance_emr_cnt[instance_emr_cnt['RunningInstanceCount'] != 0]\n",
    "print(\"Distribution of InstanceType per EMR\")\n",
    "display(instance_emr_cnt)\n",
    "\n",
    "emr_instance_cnt = emr_df.groupby(['Cluster_Name','InstanceType','Market']).agg({'RunningInstanceCount' : 'sum'})\n",
    "emr_instance_cnt = emr_instance_cnt[emr_instance_cnt['RunningInstanceCount'] != 0]\n",
    "print(\"Distribution of InstanceType on EMR\")\n",
    "display(emr_instance_cnt)\n",
    "\n",
    "print(\"Distribution of Instances per Cluster\")\n",
    "emr_node_per_cluster = emr_df.groupby(['Cluster_Name']).agg({'RunningInstanceCount' : 'sum'})\n",
    "display(emr_node_per_cluster)\n"
   ]
  },
  {
   "cell_type": "code",
   "execution_count": null,
   "metadata": {},
   "outputs": [],
   "source": []
  }
 ],
 "metadata": {
  "kernelspec": {
   "display_name": "Python 3",
   "language": "python",
   "name": "python3"
  },
  "language_info": {
   "codemirror_mode": {
    "name": "ipython",
    "version": 3
   },
   "file_extension": ".py",
   "mimetype": "text/x-python",
   "name": "python",
   "nbconvert_exporter": "python",
   "pygments_lexer": "ipython3",
   "version": "3.5.2"
  }
 },
 "nbformat": 4,
 "nbformat_minor": 2
}
