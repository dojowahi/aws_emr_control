{
 "cells": [
  {
   "cell_type": "code",
   "execution_count": 1241,
   "metadata": {
    "extensions": {
     "jupyter_dashboards": {
      "version": 1,
      "views": {
       "grid_default": {},
       "report_default": {
        "hidden": false
       }
      }
     }
    }
   },
   "outputs": [
    {
     "data": {
      "text/html": [
       "<script> </script> <form action=\"javascript:IPython.notebook.execute_cells_below()\"><input type=\"submit\" id=\"toggleButton\" value=\"Refresh Me\"></form>"
      ],
      "text/plain": [
       "<IPython.core.display.HTML object>"
      ]
     },
     "execution_count": 1241,
     "metadata": {},
     "output_type": "execute_result"
    }
   ],
   "source": [
    "from IPython.core.display import HTML\n",
    "HTML('''<script> </script> <form action=\"javascript:IPython.notebook.execute_cells_below()\"><input type=\"submit\" id=\"toggleButton\" value=\"Refresh Me\"></form>''')"
   ]
  },
  {
   "cell_type": "code",
   "execution_count": null,
   "metadata": {
    "extensions": {
     "jupyter_dashboards": {
      "version": 1,
      "views": {
       "grid_default": {},
       "report_default": {
        "hidden": true
       }
      }
     }
    }
   },
   "outputs": [],
   "source": []
  },
  {
   "cell_type": "code",
   "execution_count": 1242,
   "metadata": {
    "extensions": {
     "jupyter_dashboards": {
      "version": 1,
      "views": {
       "grid_default": {},
       "report_default": {
        "hidden": false
       }
      }
     }
    },
    "scrolled": true
   },
   "outputs": [
    {
     "data": {
      "text/html": [
       "<style type=\"text/css\">\n",
       "table.dataframe td, table.dataframe th {\n",
       "    border: 1px  black solid !important;\n",
       "  color: black !important;\n",
       "}\n",
       "</style>\n"
      ],
      "text/plain": [
       "<IPython.core.display.HTML object>"
      ]
     },
     "metadata": {},
     "output_type": "display_data"
    }
   ],
   "source": [
    "%%HTML\n",
    "<style type=\"text/css\">\n",
    "table.dataframe td, table.dataframe th {\n",
    "    border: 1px  black solid !important;\n",
    "  color: black !important;\n",
    "}\n",
    "</style>"
   ]
  },
  {
   "cell_type": "code",
   "execution_count": 1243,
   "metadata": {
    "extensions": {
     "jupyter_dashboards": {
      "version": 1,
      "views": {
       "grid_default": {},
       "report_default": {
        "hidden": false
       }
      }
     }
    },
    "scrolled": false
   },
   "outputs": [
    {
     "name": "stdout",
     "output_type": "stream",
     "text": [
      "Total Active Clusters: 7\n",
      "Total Running instances count within EMR: 62\n",
      "Count of InstanceType accross EMR\n"
     ]
    },
    {
     "data": {
      "text/html": [
       "<div>\n",
       "<style scoped>\n",
       "    .dataframe tbody tr th:only-of-type {\n",
       "        vertical-align: middle;\n",
       "    }\n",
       "\n",
       "    .dataframe tbody tr th {\n",
       "        vertical-align: top;\n",
       "    }\n",
       "\n",
       "    .dataframe thead th {\n",
       "        text-align: right;\n",
       "    }\n",
       "</style>\n",
       "<table border=\"1\" class=\"dataframe\">\n",
       "  <thead>\n",
       "    <tr style=\"text-align: right;\">\n",
       "      <th></th>\n",
       "      <th></th>\n",
       "      <th>RunningInstanceCount</th>\n",
       "      <th>Cluster_Name</th>\n",
       "    </tr>\n",
       "    <tr>\n",
       "      <th>InstanceType</th>\n",
       "      <th>Market</th>\n",
       "      <th></th>\n",
       "      <th></th>\n",
       "    </tr>\n",
       "  </thead>\n",
       "  <tbody>\n",
       "    <tr>\n",
       "      <th>m4.4xlarge</th>\n",
       "      <th>ON_DEMAND</th>\n",
       "      <td>2</td>\n",
       "      <td>stx-usw2-ehc-wafer-EMR-5.30_New_Cluster, stx-u...</td>\n",
       "    </tr>\n",
       "    <tr>\n",
       "      <th>m5.12xlarge</th>\n",
       "      <th>ON_DEMAND</th>\n",
       "      <td>9</td>\n",
       "      <td>stx-usw2-ehc-wafer-EMR-5.30_New_Cluster, stx-u...</td>\n",
       "    </tr>\n",
       "    <tr>\n",
       "      <th>m5.24xlarge</th>\n",
       "      <th>ON_DEMAND</th>\n",
       "      <td>1</td>\n",
       "      <td>stx-usw2-etl-ehc-spark-on-hive-prd</td>\n",
       "    </tr>\n",
       "    <tr>\n",
       "      <th>r4.16xlarge</th>\n",
       "      <th>ON_DEMAND</th>\n",
       "      <td>6</td>\n",
       "      <td>stx-usw2-ehc-prd-etl-cluster, stx-usw2-ehc-prd...</td>\n",
       "    </tr>\n",
       "    <tr>\n",
       "      <th rowspan=\"2\" valign=\"top\">r4.8xlarge</th>\n",
       "      <th>ON_DEMAND</th>\n",
       "      <td>41</td>\n",
       "      <td>stx-usw2-ehc-prd-etl-cluster, stx-usw2-ehc-prd...</td>\n",
       "    </tr>\n",
       "    <tr>\n",
       "      <th>SPOT</th>\n",
       "      <td>3</td>\n",
       "      <td>stx-usw2-ehc-wafer-EMR-5.30_New_Cluster, stx-u...</td>\n",
       "    </tr>\n",
       "  </tbody>\n",
       "</table>\n",
       "</div>"
      ],
      "text/plain": [
       "                        RunningInstanceCount  \\\n",
       "InstanceType Market                            \n",
       "m4.4xlarge   ON_DEMAND                     2   \n",
       "m5.12xlarge  ON_DEMAND                     9   \n",
       "m5.24xlarge  ON_DEMAND                     1   \n",
       "r4.16xlarge  ON_DEMAND                     6   \n",
       "r4.8xlarge   ON_DEMAND                    41   \n",
       "             SPOT                          3   \n",
       "\n",
       "                                                             Cluster_Name  \n",
       "InstanceType Market                                                        \n",
       "m4.4xlarge   ON_DEMAND  stx-usw2-ehc-wafer-EMR-5.30_New_Cluster, stx-u...  \n",
       "m5.12xlarge  ON_DEMAND  stx-usw2-ehc-wafer-EMR-5.30_New_Cluster, stx-u...  \n",
       "m5.24xlarge  ON_DEMAND                 stx-usw2-etl-ehc-spark-on-hive-prd  \n",
       "r4.16xlarge  ON_DEMAND  stx-usw2-ehc-prd-etl-cluster, stx-usw2-ehc-prd...  \n",
       "r4.8xlarge   ON_DEMAND  stx-usw2-ehc-prd-etl-cluster, stx-usw2-ehc-prd...  \n",
       "             SPOT       stx-usw2-ehc-wafer-EMR-5.30_New_Cluster, stx-u...  "
      ]
     },
     "metadata": {},
     "output_type": "display_data"
    },
    {
     "name": "stdout",
     "output_type": "stream",
     "text": [
      "Distribution of InstanceType per EMR\n"
     ]
    },
    {
     "data": {
      "text/html": [
       "<div>\n",
       "<style scoped>\n",
       "    .dataframe tbody tr th:only-of-type {\n",
       "        vertical-align: middle;\n",
       "    }\n",
       "\n",
       "    .dataframe tbody tr th {\n",
       "        vertical-align: top;\n",
       "    }\n",
       "\n",
       "    .dataframe thead th {\n",
       "        text-align: right;\n",
       "    }\n",
       "</style>\n",
       "<table border=\"1\" class=\"dataframe\">\n",
       "  <thead>\n",
       "    <tr style=\"text-align: right;\">\n",
       "      <th></th>\n",
       "      <th></th>\n",
       "      <th></th>\n",
       "      <th>RunningInstanceCount</th>\n",
       "    </tr>\n",
       "    <tr>\n",
       "      <th>InstanceType</th>\n",
       "      <th>Cluster_Name</th>\n",
       "      <th>Market</th>\n",
       "      <th></th>\n",
       "    </tr>\n",
       "  </thead>\n",
       "  <tbody>\n",
       "    <tr>\n",
       "      <th rowspan=\"2\" valign=\"top\">m4.4xlarge</th>\n",
       "      <th>stx-usw2-ehc-prd-wafer-infosec</th>\n",
       "      <th>ON_DEMAND</th>\n",
       "      <td>1</td>\n",
       "    </tr>\n",
       "    <tr>\n",
       "      <th>stx-usw2-ehc-wafer-EMR-5.30_New_Cluster</th>\n",
       "      <th>ON_DEMAND</th>\n",
       "      <td>1</td>\n",
       "    </tr>\n",
       "    <tr>\n",
       "      <th rowspan=\"5\" valign=\"top\">m5.12xlarge</th>\n",
       "      <th>stx-usw2-ehc-prd-etl-cluster</th>\n",
       "      <th>ON_DEMAND</th>\n",
       "      <td>1</td>\n",
       "    </tr>\n",
       "    <tr>\n",
       "      <th>stx-usw2-ehc-prd-sampled</th>\n",
       "      <th>ON_DEMAND</th>\n",
       "      <td>2</td>\n",
       "    </tr>\n",
       "    <tr>\n",
       "      <th>stx-usw2-ehc-prd-wafer-infosec</th>\n",
       "      <th>ON_DEMAND</th>\n",
       "      <td>4</td>\n",
       "    </tr>\n",
       "    <tr>\n",
       "      <th>stx-usw2-ehc-wafer-EMR-5.30_New_Cluster</th>\n",
       "      <th>ON_DEMAND</th>\n",
       "      <td>1</td>\n",
       "    </tr>\n",
       "    <tr>\n",
       "      <th>stx-usw2-etl-ehc-spark-on-hive-prd</th>\n",
       "      <th>ON_DEMAND</th>\n",
       "      <td>1</td>\n",
       "    </tr>\n",
       "    <tr>\n",
       "      <th>m5.24xlarge</th>\n",
       "      <th>stx-usw2-etl-ehc-spark-on-hive-prd</th>\n",
       "      <th>ON_DEMAND</th>\n",
       "      <td>1</td>\n",
       "    </tr>\n",
       "    <tr>\n",
       "      <th rowspan=\"2\" valign=\"top\">r4.16xlarge</th>\n",
       "      <th>stx-usw2-ehc-prd-etl-cluster</th>\n",
       "      <th>ON_DEMAND</th>\n",
       "      <td>4</td>\n",
       "    </tr>\n",
       "    <tr>\n",
       "      <th>stx-usw2-ehc-prd-sparkdev16-h2o</th>\n",
       "      <th>ON_DEMAND</th>\n",
       "      <td>2</td>\n",
       "    </tr>\n",
       "    <tr>\n",
       "      <th rowspan=\"7\" valign=\"top\">r4.8xlarge</th>\n",
       "      <th>stx-usw2-ehc-prd-etl-cluster</th>\n",
       "      <th>ON_DEMAND</th>\n",
       "      <td>5</td>\n",
       "    </tr>\n",
       "    <tr>\n",
       "      <th>stx-usw2-ehc-prd-sparkdev16-h2o</th>\n",
       "      <th>ON_DEMAND</th>\n",
       "      <td>2</td>\n",
       "    </tr>\n",
       "    <tr>\n",
       "      <th rowspan=\"2\" valign=\"top\">stx-usw2-ehc-prd-wafer-infosec</th>\n",
       "      <th>ON_DEMAND</th>\n",
       "      <td>1</td>\n",
       "    </tr>\n",
       "    <tr>\n",
       "      <th>SPOT</th>\n",
       "      <td>2</td>\n",
       "    </tr>\n",
       "    <tr>\n",
       "      <th>stx-usw2-ehc-presto-ec2</th>\n",
       "      <th>ON_DEMAND</th>\n",
       "      <td>32</td>\n",
       "    </tr>\n",
       "    <tr>\n",
       "      <th>stx-usw2-ehc-wafer-EMR-5.30_New_Cluster</th>\n",
       "      <th>SPOT</th>\n",
       "      <td>1</td>\n",
       "    </tr>\n",
       "    <tr>\n",
       "      <th>stx-usw2-etl-ehc-spark-on-hive-prd</th>\n",
       "      <th>ON_DEMAND</th>\n",
       "      <td>1</td>\n",
       "    </tr>\n",
       "  </tbody>\n",
       "</table>\n",
       "</div>"
      ],
      "text/plain": [
       "                                                                RunningInstanceCount\n",
       "InstanceType Cluster_Name                            Market                         \n",
       "m4.4xlarge   stx-usw2-ehc-prd-wafer-infosec          ON_DEMAND                     1\n",
       "             stx-usw2-ehc-wafer-EMR-5.30_New_Cluster ON_DEMAND                     1\n",
       "m5.12xlarge  stx-usw2-ehc-prd-etl-cluster            ON_DEMAND                     1\n",
       "             stx-usw2-ehc-prd-sampled                ON_DEMAND                     2\n",
       "             stx-usw2-ehc-prd-wafer-infosec          ON_DEMAND                     4\n",
       "             stx-usw2-ehc-wafer-EMR-5.30_New_Cluster ON_DEMAND                     1\n",
       "             stx-usw2-etl-ehc-spark-on-hive-prd      ON_DEMAND                     1\n",
       "m5.24xlarge  stx-usw2-etl-ehc-spark-on-hive-prd      ON_DEMAND                     1\n",
       "r4.16xlarge  stx-usw2-ehc-prd-etl-cluster            ON_DEMAND                     4\n",
       "             stx-usw2-ehc-prd-sparkdev16-h2o         ON_DEMAND                     2\n",
       "r4.8xlarge   stx-usw2-ehc-prd-etl-cluster            ON_DEMAND                     5\n",
       "             stx-usw2-ehc-prd-sparkdev16-h2o         ON_DEMAND                     2\n",
       "             stx-usw2-ehc-prd-wafer-infosec          ON_DEMAND                     1\n",
       "                                                     SPOT                          2\n",
       "             stx-usw2-ehc-presto-ec2                 ON_DEMAND                    32\n",
       "             stx-usw2-ehc-wafer-EMR-5.30_New_Cluster SPOT                          1\n",
       "             stx-usw2-etl-ehc-spark-on-hive-prd      ON_DEMAND                     1"
      ]
     },
     "metadata": {},
     "output_type": "display_data"
    },
    {
     "name": "stdout",
     "output_type": "stream",
     "text": [
      "Distribution of InstanceType on EMR\n"
     ]
    },
    {
     "data": {
      "text/html": [
       "<div>\n",
       "<style scoped>\n",
       "    .dataframe tbody tr th:only-of-type {\n",
       "        vertical-align: middle;\n",
       "    }\n",
       "\n",
       "    .dataframe tbody tr th {\n",
       "        vertical-align: top;\n",
       "    }\n",
       "\n",
       "    .dataframe thead th {\n",
       "        text-align: right;\n",
       "    }\n",
       "</style>\n",
       "<table border=\"1\" class=\"dataframe\">\n",
       "  <thead>\n",
       "    <tr style=\"text-align: right;\">\n",
       "      <th></th>\n",
       "      <th></th>\n",
       "      <th></th>\n",
       "      <th>RunningInstanceCount</th>\n",
       "    </tr>\n",
       "    <tr>\n",
       "      <th>Cluster_Name</th>\n",
       "      <th>InstanceType</th>\n",
       "      <th>Market</th>\n",
       "      <th></th>\n",
       "    </tr>\n",
       "  </thead>\n",
       "  <tbody>\n",
       "    <tr>\n",
       "      <th rowspan=\"3\" valign=\"top\">stx-usw2-ehc-prd-etl-cluster</th>\n",
       "      <th>m5.12xlarge</th>\n",
       "      <th>ON_DEMAND</th>\n",
       "      <td>1</td>\n",
       "    </tr>\n",
       "    <tr>\n",
       "      <th>r4.16xlarge</th>\n",
       "      <th>ON_DEMAND</th>\n",
       "      <td>4</td>\n",
       "    </tr>\n",
       "    <tr>\n",
       "      <th>r4.8xlarge</th>\n",
       "      <th>ON_DEMAND</th>\n",
       "      <td>5</td>\n",
       "    </tr>\n",
       "    <tr>\n",
       "      <th>stx-usw2-ehc-prd-sampled</th>\n",
       "      <th>m5.12xlarge</th>\n",
       "      <th>ON_DEMAND</th>\n",
       "      <td>2</td>\n",
       "    </tr>\n",
       "    <tr>\n",
       "      <th rowspan=\"2\" valign=\"top\">stx-usw2-ehc-prd-sparkdev16-h2o</th>\n",
       "      <th>r4.16xlarge</th>\n",
       "      <th>ON_DEMAND</th>\n",
       "      <td>2</td>\n",
       "    </tr>\n",
       "    <tr>\n",
       "      <th>r4.8xlarge</th>\n",
       "      <th>ON_DEMAND</th>\n",
       "      <td>2</td>\n",
       "    </tr>\n",
       "    <tr>\n",
       "      <th rowspan=\"4\" valign=\"top\">stx-usw2-ehc-prd-wafer-infosec</th>\n",
       "      <th>m4.4xlarge</th>\n",
       "      <th>ON_DEMAND</th>\n",
       "      <td>1</td>\n",
       "    </tr>\n",
       "    <tr>\n",
       "      <th>m5.12xlarge</th>\n",
       "      <th>ON_DEMAND</th>\n",
       "      <td>4</td>\n",
       "    </tr>\n",
       "    <tr>\n",
       "      <th rowspan=\"2\" valign=\"top\">r4.8xlarge</th>\n",
       "      <th>ON_DEMAND</th>\n",
       "      <td>1</td>\n",
       "    </tr>\n",
       "    <tr>\n",
       "      <th>SPOT</th>\n",
       "      <td>2</td>\n",
       "    </tr>\n",
       "    <tr>\n",
       "      <th>stx-usw2-ehc-presto-ec2</th>\n",
       "      <th>r4.8xlarge</th>\n",
       "      <th>ON_DEMAND</th>\n",
       "      <td>32</td>\n",
       "    </tr>\n",
       "    <tr>\n",
       "      <th rowspan=\"3\" valign=\"top\">stx-usw2-ehc-wafer-EMR-5.30_New_Cluster</th>\n",
       "      <th>m4.4xlarge</th>\n",
       "      <th>ON_DEMAND</th>\n",
       "      <td>1</td>\n",
       "    </tr>\n",
       "    <tr>\n",
       "      <th>m5.12xlarge</th>\n",
       "      <th>ON_DEMAND</th>\n",
       "      <td>1</td>\n",
       "    </tr>\n",
       "    <tr>\n",
       "      <th>r4.8xlarge</th>\n",
       "      <th>SPOT</th>\n",
       "      <td>1</td>\n",
       "    </tr>\n",
       "    <tr>\n",
       "      <th rowspan=\"3\" valign=\"top\">stx-usw2-etl-ehc-spark-on-hive-prd</th>\n",
       "      <th>m5.12xlarge</th>\n",
       "      <th>ON_DEMAND</th>\n",
       "      <td>1</td>\n",
       "    </tr>\n",
       "    <tr>\n",
       "      <th>m5.24xlarge</th>\n",
       "      <th>ON_DEMAND</th>\n",
       "      <td>1</td>\n",
       "    </tr>\n",
       "    <tr>\n",
       "      <th>r4.8xlarge</th>\n",
       "      <th>ON_DEMAND</th>\n",
       "      <td>1</td>\n",
       "    </tr>\n",
       "  </tbody>\n",
       "</table>\n",
       "</div>"
      ],
      "text/plain": [
       "                                                                RunningInstanceCount\n",
       "Cluster_Name                            InstanceType Market                         \n",
       "stx-usw2-ehc-prd-etl-cluster            m5.12xlarge  ON_DEMAND                     1\n",
       "                                        r4.16xlarge  ON_DEMAND                     4\n",
       "                                        r4.8xlarge   ON_DEMAND                     5\n",
       "stx-usw2-ehc-prd-sampled                m5.12xlarge  ON_DEMAND                     2\n",
       "stx-usw2-ehc-prd-sparkdev16-h2o         r4.16xlarge  ON_DEMAND                     2\n",
       "                                        r4.8xlarge   ON_DEMAND                     2\n",
       "stx-usw2-ehc-prd-wafer-infosec          m4.4xlarge   ON_DEMAND                     1\n",
       "                                        m5.12xlarge  ON_DEMAND                     4\n",
       "                                        r4.8xlarge   ON_DEMAND                     1\n",
       "                                                     SPOT                          2\n",
       "stx-usw2-ehc-presto-ec2                 r4.8xlarge   ON_DEMAND                    32\n",
       "stx-usw2-ehc-wafer-EMR-5.30_New_Cluster m4.4xlarge   ON_DEMAND                     1\n",
       "                                        m5.12xlarge  ON_DEMAND                     1\n",
       "                                        r4.8xlarge   SPOT                          1\n",
       "stx-usw2-etl-ehc-spark-on-hive-prd      m5.12xlarge  ON_DEMAND                     1\n",
       "                                        m5.24xlarge  ON_DEMAND                     1\n",
       "                                        r4.8xlarge   ON_DEMAND                     1"
      ]
     },
     "metadata": {},
     "output_type": "display_data"
    },
    {
     "name": "stdout",
     "output_type": "stream",
     "text": [
      "Distribution of Instances per Cluster\n"
     ]
    },
    {
     "data": {
      "text/html": [
       "<div>\n",
       "<style scoped>\n",
       "    .dataframe tbody tr th:only-of-type {\n",
       "        vertical-align: middle;\n",
       "    }\n",
       "\n",
       "    .dataframe tbody tr th {\n",
       "        vertical-align: top;\n",
       "    }\n",
       "\n",
       "    .dataframe thead th {\n",
       "        text-align: right;\n",
       "    }\n",
       "</style>\n",
       "<table border=\"1\" class=\"dataframe\">\n",
       "  <thead>\n",
       "    <tr style=\"text-align: right;\">\n",
       "      <th></th>\n",
       "      <th>RunningInstanceCount</th>\n",
       "    </tr>\n",
       "    <tr>\n",
       "      <th>Cluster_Name</th>\n",
       "      <th></th>\n",
       "    </tr>\n",
       "  </thead>\n",
       "  <tbody>\n",
       "    <tr>\n",
       "      <th>stx-usw2-ehc-prd-etl-cluster</th>\n",
       "      <td>10</td>\n",
       "    </tr>\n",
       "    <tr>\n",
       "      <th>stx-usw2-ehc-prd-sampled</th>\n",
       "      <td>2</td>\n",
       "    </tr>\n",
       "    <tr>\n",
       "      <th>stx-usw2-ehc-prd-sparkdev16-h2o</th>\n",
       "      <td>4</td>\n",
       "    </tr>\n",
       "    <tr>\n",
       "      <th>stx-usw2-ehc-prd-wafer-infosec</th>\n",
       "      <td>8</td>\n",
       "    </tr>\n",
       "    <tr>\n",
       "      <th>stx-usw2-ehc-presto-ec2</th>\n",
       "      <td>32</td>\n",
       "    </tr>\n",
       "    <tr>\n",
       "      <th>stx-usw2-ehc-wafer-EMR-5.30_New_Cluster</th>\n",
       "      <td>3</td>\n",
       "    </tr>\n",
       "    <tr>\n",
       "      <th>stx-usw2-etl-ehc-spark-on-hive-prd</th>\n",
       "      <td>3</td>\n",
       "    </tr>\n",
       "  </tbody>\n",
       "</table>\n",
       "</div>"
      ],
      "text/plain": [
       "                                         RunningInstanceCount\n",
       "Cluster_Name                                                 \n",
       "stx-usw2-ehc-prd-etl-cluster                               10\n",
       "stx-usw2-ehc-prd-sampled                                    2\n",
       "stx-usw2-ehc-prd-sparkdev16-h2o                             4\n",
       "stx-usw2-ehc-prd-wafer-infosec                              8\n",
       "stx-usw2-ehc-presto-ec2                                    32\n",
       "stx-usw2-ehc-wafer-EMR-5.30_New_Cluster                     3\n",
       "stx-usw2-etl-ehc-spark-on-hive-prd                          3"
      ]
     },
     "metadata": {},
     "output_type": "display_data"
    }
   ],
   "source": [
    "import boto3\n",
    "import pandas as pd\n",
    "import numpy as np\n",
    "from IPython.display import display\n",
    "pd.set_option('display.width', None)\n",
    "\n",
    "\"\"\"\n",
    "ec2 = boto3.client('ec2', region_name='us-west-2')\n",
    "response = ec2.describe_instances()\n",
    "print(response)oro\n",
    "\"\"\"\n",
    "\n",
    "def highlight_reserved(df_row):\n",
    "    if df_row.name[0] in ['r4.8xlarge','m5.12xlarge']:\n",
    "        return ['background-color: yellow; border: 1px  black solid !important; color: black !important']*2\n",
    "    else:\n",
    "        return ['border: 1px  black solid !important; color: black !important']*2\n",
    "    \n",
    "emr = boto3.client('emr' , region_name='us-west-2')\n",
    "\n",
    "page_iterator = emr.get_paginator('list_clusters').paginate(\n",
    "    ClusterStates=['RUNNING','WAITING']\n",
    ")\n",
    "\n",
    "clusters_active = []\n",
    "for page in page_iterator:\n",
    "    clusters_active.extend(page['Clusters'])\n",
    "\n",
    "asg = boto3.client('autoscaling', region_name='us-west-2')\n",
    "asg_details = asg.describe_auto_scaling_groups(AutoScalingGroupNames=['stx-usw2-ehc-presto-worker-asg'])\n",
    "presto_cnt = int(len(asg_details['AutoScalingGroups'][0]['Instances']) + 2)\n",
    "\n",
    "print(\"Total Active Clusters:\", len(clusters_active) + 1)\n",
    "\n",
    "emr_df = pd.DataFrame()\n",
    "for cluster in clusters_active:\n",
    "    cluster_id = cluster['Id']\n",
    "    instance_groups = emr.list_instance_groups(ClusterId=cluster_id)['InstanceGroups']\n",
    "    instance_groups_df = pd.DataFrame(instance_groups)\n",
    "    instance_groups_df['Cluster_Name'] = cluster['Name']\n",
    "    instance_groups_df['Cluster_Id'] = cluster['Id']\n",
    "    emr_df = emr_df.append(instance_groups_df[['Cluster_Name','Cluster_Id','InstanceType', 'InstanceGroupType', 'Market', 'RunningInstanceCount' ]], ignore_index=True)\n",
    "\n",
    "emr_df = emr_df.append({'Cluster_Name':'stx-usw2-ehc-presto-ec2', 'Cluster_Id':'' , 'InstanceType': 'r4.8xlarge', 'InstanceGroupType': '', 'Market':'ON_DEMAND', 'RunningInstanceCount': presto_cnt }, ignore_index=True)\n",
    "\n",
    "instance_total = emr_df['RunningInstanceCount'].sum()\n",
    "print('Total Running instances count within EMR: {}'.format(instance_total))\n",
    "#instance_type_cnt = instance_type_grp['RunningInstanceCount'].agg({'Count': np.sum})\n",
    "#instance_type_cnt = instance_type_grp.agg({'RunningInstanceCount' : 'sum', 'Cluster_Instance' : lambda x: ', '.join(x)})\n",
    "instance_grp = emr_df.groupby(['InstanceType','Market'])\n",
    "#instance_grp_cnt = instance_grp.agg({'RunningInstanceCount' : 'sum'})\n",
    "instance_grp_cnt = instance_grp.agg({'RunningInstanceCount' : 'sum', 'Cluster_Name' : lambda x: ', '.join(x)}).reindex(['RunningInstanceCount','Cluster_Name'], axis=1)\n",
    "instance_grp_cnt = instance_grp_cnt[instance_grp_cnt['RunningInstanceCount'] != 0]\n",
    "print(\"Count of InstanceType accross EMR\")\n",
    "#instance_grp_cnt = instance_grp_cnt.style.apply(highlight_reserved, axis=1)\n",
    "display(instance_grp_cnt)\n",
    "\n",
    "instance_emr_cnt = emr_df.groupby(['InstanceType','Cluster_Name','Market']).agg({'RunningInstanceCount' : 'sum'})\n",
    "instance_emr_cnt = instance_emr_cnt[instance_emr_cnt['RunningInstanceCount'] != 0]\n",
    "print(\"Distribution of InstanceType per EMR\")\n",
    "display(instance_emr_cnt)\n",
    "\n",
    "emr_instance_cnt = emr_df.groupby(['Cluster_Name','InstanceType','Market']).agg({'RunningInstanceCount' : 'sum'})\n",
    "emr_instance_cnt = emr_instance_cnt[emr_instance_cnt['RunningInstanceCount'] != 0]\n",
    "print(\"Distribution of InstanceType on EMR\")\n",
    "display(emr_instance_cnt)\n",
    "\n",
    "print(\"Distribution of Instances per Cluster\")\n",
    "emr_node_per_cluster = emr_df.groupby(['Cluster_Name']).agg({'RunningInstanceCount' : 'sum'})\n",
    "display(emr_node_per_cluster)\n"
   ]
  }
 ],
 "metadata": {
  "extensions": {
   "jupyter_dashboards": {
    "activeView": "report_default",
    "version": 1,
    "views": {
     "grid_default": {
      "name": "grid",
      "type": "grid"
     },
     "report_default": {
      "name": "report",
      "type": "report"
     }
    }
   }
  },
  "kernelspec": {
   "display_name": "Python 3",
   "language": "python",
   "name": "python3"
  },
  "language_info": {
   "codemirror_mode": {
    "name": "ipython",
    "version": 3
   },
   "file_extension": ".py",
   "mimetype": "text/x-python",
   "name": "python",
   "nbconvert_exporter": "python",
   "pygments_lexer": "ipython3",
   "version": "3.6.10"
  }
 },
 "nbformat": 4,
 "nbformat_minor": 2
}
